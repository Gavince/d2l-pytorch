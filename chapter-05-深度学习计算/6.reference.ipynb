{
 "cells": [
  {
   "cell_type": "markdown",
   "id": "a4a48cf6-f6e1-4a4b-9153-4f7feb48c5b6",
   "metadata": {},
   "source": [
    "# Reference\n",
    "[PyTorch 源码解读之 nn.Module：核心网络模块接口详解](https://zhuanlan.zhihu.com/p/340453841)"
   ]
  }
 ],
 "metadata": {
  "kernelspec": {
   "display_name": "Python 3",
   "language": "python",
   "name": "python3"
  },
  "language_info": {
   "codemirror_mode": {
    "name": "ipython",
    "version": 3
   },
   "file_extension": ".py",
   "mimetype": "text/x-python",
   "name": "python",
   "nbconvert_exporter": "python",
   "pygments_lexer": "ipython3",
   "version": "3.8.5"
  }
 },
 "nbformat": 4,
 "nbformat_minor": 5
}
