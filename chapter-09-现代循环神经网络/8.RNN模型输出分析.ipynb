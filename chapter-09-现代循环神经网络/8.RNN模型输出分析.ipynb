{
 "cells": [
  {
   "cell_type": "markdown",
   "id": "8fe765a7-e008-457d-b408-e166f76bc0dc",
   "metadata": {},
   "source": [
    "# LSTM输出输出维度图示"
   ]
  },
  {
   "cell_type": "code",
   "execution_count": 2,
   "id": "af3bc27b-2aa3-4207-b7fb-a91d5b9e7ac9",
   "metadata": {},
   "outputs": [],
   "source": [
    "from torch import nn\n",
    "import torch"
   ]
  },
  {
   "cell_type": "markdown",
   "id": "f3672ee9-e072-4fc7-86db-eef8c4ea749d",
   "metadata": {},
   "source": [
    "## 单向单层"
   ]
  },
  {
   "cell_type": "code",
   "execution_count": 31,
   "id": "9b3b0225-39a1-4c14-b74f-0eba535c10ea",
   "metadata": {},
   "outputs": [],
   "source": [
    "# 构造RNN网络，x的维度5，隐层的维度10,网络的层数2\n",
    "rnn_seq = nn.RNN(5, 10, 1)\n",
    "# 构造一个输入序列，句长为 6，batch 是 3， 每个单词使用长度是 5的向量表示\n",
    "# 输入维度为:[seq_len,batch_size,output_dim]\n",
    "x = torch.randn(6, 3, 5)\n",
    "#out,ht = rnn_seq(x,h0)\n",
    "out, ht = rnn_seq(x)  # h0可以指定或者不指定"
   ]
  },
  {
   "cell_type": "code",
   "execution_count": 32,
   "id": "a0211b2e-755a-4a1c-b255-bb0da2d474fd",
   "metadata": {},
   "outputs": [
    {
     "data": {
      "text/plain": [
       "torch.Size([6, 3, 10])"
      ]
     },
     "execution_count": 32,
     "metadata": {},
     "output_type": "execute_result"
    }
   ],
   "source": [
    "#[T, B, H]\n",
    "out.shape"
   ]
  },
  {
   "cell_type": "code",
   "execution_count": 33,
   "id": "f2cbecc0-2a29-4fee-abad-25f3a65cecc8",
   "metadata": {},
   "outputs": [],
   "source": [
    "# [1, B, T]\n",
    "# ht.shape"
   ]
  },
  {
   "cell_type": "code",
   "execution_count": 34,
   "id": "670efbee-7d9e-4ceb-b06c-755c6478e765",
   "metadata": {},
   "outputs": [
    {
     "data": {
      "text/plain": [
       "['weight_ih_l0', 'weight_hh_l0', 'bias_ih_l0', 'bias_hh_l0']"
      ]
     },
     "execution_count": 34,
     "metadata": {},
     "output_type": "execute_result"
    }
   ],
   "source": [
    "# 参数设置\n",
    "rnn_seq._flat_weights_names"
   ]
  },
  {
   "cell_type": "code",
   "execution_count": 35,
   "id": "45359652-3f3e-4c5d-849f-1e802a1ee3c0",
   "metadata": {},
   "outputs": [
    {
     "data": {
      "text/plain": [
       "OrderedDict([('weight_ih_l0',\n",
       "              Parameter containing:\n",
       "              tensor([[ 0.2587, -0.2199, -0.1170,  0.0099, -0.0065],\n",
       "                      [ 0.1469,  0.1941, -0.1777,  0.0989, -0.2724],\n",
       "                      [-0.2771,  0.2689,  0.0756, -0.2019, -0.0101],\n",
       "                      [ 0.2635,  0.2517, -0.1501, -0.1686,  0.0456],\n",
       "                      [-0.1984, -0.2611, -0.1358, -0.2899, -0.0806],\n",
       "                      [ 0.2433, -0.0690,  0.1790,  0.1315, -0.3097],\n",
       "                      [-0.1492, -0.1260,  0.0772,  0.2890, -0.1107],\n",
       "                      [ 0.2166, -0.0948,  0.2453,  0.1382,  0.0348],\n",
       "                      [ 0.0029,  0.3123,  0.0457,  0.1459, -0.1896],\n",
       "                      [-0.2486, -0.1005,  0.0439,  0.2437, -0.3120]], requires_grad=True)),\n",
       "             ('weight_hh_l0',\n",
       "              Parameter containing:\n",
       "              tensor([[ 0.0150, -0.2388,  0.0424,  0.0532,  0.2301,  0.1295, -0.2403, -0.0781,\n",
       "                        0.2454, -0.1679],\n",
       "                      [ 0.0887,  0.1050,  0.2611,  0.0605,  0.2939,  0.0752, -0.2113, -0.1196,\n",
       "                        0.0277,  0.2705],\n",
       "                      [ 0.2446,  0.0130,  0.1009, -0.2834,  0.0585,  0.0546,  0.0806,  0.2431,\n",
       "                       -0.2776,  0.1489],\n",
       "                      [ 0.0071, -0.3157, -0.0684,  0.2260,  0.2477, -0.1507,  0.2730, -0.2385,\n",
       "                        0.2260,  0.2932],\n",
       "                      [ 0.2772, -0.0058, -0.0209, -0.2371, -0.2602, -0.0251,  0.1315,  0.1502,\n",
       "                        0.2968, -0.1392],\n",
       "                      [-0.0048, -0.0650, -0.2902,  0.1527, -0.2072,  0.1626,  0.1400, -0.2697,\n",
       "                        0.0999,  0.1214],\n",
       "                      [ 0.0026, -0.1721, -0.1227,  0.2124, -0.1890,  0.2809, -0.2967,  0.0911,\n",
       "                       -0.2338,  0.0892],\n",
       "                      [ 0.2785, -0.0321, -0.0850, -0.0685, -0.2984,  0.1282,  0.1624, -0.0200,\n",
       "                        0.0469, -0.0807],\n",
       "                      [ 0.1709, -0.2255, -0.1136, -0.1523, -0.0517,  0.1907, -0.2587, -0.2968,\n",
       "                       -0.2597,  0.1453],\n",
       "                      [-0.1966, -0.2824,  0.2624,  0.2112, -0.0924,  0.2315,  0.2388,  0.1022,\n",
       "                        0.0322, -0.0064]], requires_grad=True)),\n",
       "             ('bias_ih_l0',\n",
       "              Parameter containing:\n",
       "              tensor([ 0.2292, -0.0212,  0.0078,  0.2267,  0.2030, -0.2056,  0.1053, -0.1367,\n",
       "                       0.1918, -0.1188], requires_grad=True)),\n",
       "             ('bias_hh_l0',\n",
       "              Parameter containing:\n",
       "              tensor([-0.1631,  0.1294,  0.0512,  0.2617, -0.2876, -0.1397,  0.1443, -0.2399,\n",
       "                       0.2990,  0.1628], requires_grad=True))])"
      ]
     },
     "execution_count": 35,
     "metadata": {},
     "output_type": "execute_result"
    }
   ],
   "source": [
    "rnn_seq._parameters"
   ]
  },
  {
   "cell_type": "markdown",
   "id": "4b161c2f-b112-4f54-a456-07a4e1c9d988",
   "metadata": {},
   "source": [
    "## 单向多层\n",
    "![](./imgs/rnn3.png)"
   ]
  },
  {
   "cell_type": "code",
   "execution_count": 82,
   "id": "82670f08-86b0-4664-a623-714c569f7e4d",
   "metadata": {},
   "outputs": [],
   "source": [
    "# 构造RNN网络，x的维度5，隐层的维度10,网络的层数3\n",
    "rnn_seq = nn.RNN(5, 10, 3)\n",
    "# 构造一个输入序列，句长为 6，batch 是 3， 每个单词使用长度是 5的向量表示\n",
    "# 输入维度为:[seq_len,batch_size,output_dim]\n",
    "x = torch.randn(6, 3, 5)\n",
    "#out,ht = rnn_seq(x,h0)\n",
    "out, ht = rnn_seq(x)  # h0可以指定或者不指定"
   ]
  },
  {
   "cell_type": "code",
   "execution_count": 83,
   "id": "bde2ed5d-7be4-45de-b48a-b2b22dc4c137",
   "metadata": {},
   "outputs": [
    {
     "data": {
      "text/plain": [
       "torch.Size([6, 3, 10])"
      ]
     },
     "execution_count": 83,
     "metadata": {},
     "output_type": "execute_result"
    }
   ],
   "source": [
    "#[T, B, H]\n",
    "out.shape"
   ]
  },
  {
   "cell_type": "code",
   "execution_count": 84,
   "id": "70fc8b21-efdb-417d-88e1-df34b67cd004",
   "metadata": {},
   "outputs": [
    {
     "data": {
      "text/plain": [
       "torch.Size([3, 3, 10])"
      ]
     },
     "execution_count": 84,
     "metadata": {},
     "output_type": "execute_result"
    }
   ],
   "source": [
    "#[num_layer, B, H]\n",
    "ht.shape"
   ]
  },
  {
   "cell_type": "markdown",
   "id": "20d7caff-5868-4119-b4e3-95ccd532f555",
   "metadata": {},
   "source": [
    "## 双向单层\n",
    "![](./imgs/rnn1.png)"
   ]
  },
  {
   "cell_type": "code",
   "execution_count": 85,
   "id": "dd40e7c2-d148-4517-824a-73681dcfbf9b",
   "metadata": {},
   "outputs": [],
   "source": [
    "# 构造RNN网络，x的维度5，隐层的维度10,网络的层数2\n",
    "rnn_seq = nn.RNN(5, 10, 1, bidirectional=True)\n",
    "# 构造一个输入序列，句长为 6，batch 是 3， 每个单词使用长度是 5的向量表示\n",
    "# 输入维度为:[seq_len,batch_size,output_dim]\n",
    "x = torch.randn(6, 3, 5)\n",
    "#out,ht = rnn_seq(x,h0)\n",
    "out, ht = rnn_seq(x)  # h0可以指定或者不指定"
   ]
  },
  {
   "cell_type": "code",
   "execution_count": 86,
   "id": "b26ca5aa-e161-43e3-a478-374ff5056ab1",
   "metadata": {},
   "outputs": [
    {
     "data": {
      "text/plain": [
       "torch.Size([6, 3, 20])"
      ]
     },
     "execution_count": 86,
     "metadata": {},
     "output_type": "execute_result"
    }
   ],
   "source": [
    "# out维度由正向反向的隐藏层拼接形成\n",
    "out.shape"
   ]
  },
  {
   "cell_type": "code",
   "execution_count": 87,
   "id": "fb5969b2-b21d-4c95-924c-7599629ee7ad",
   "metadata": {},
   "outputs": [
    {
     "data": {
      "text/plain": [
       "torch.Size([2, 3, 10])"
      ]
     },
     "execution_count": 87,
     "metadata": {},
     "output_type": "execute_result"
    }
   ],
   "source": [
    "# [num_layers * num_directions, batch, hidden_size]\n",
    "ht.shape"
   ]
  },
  {
   "cell_type": "code",
   "execution_count": 88,
   "id": "16934186-687a-4985-8514-a0667209998f",
   "metadata": {},
   "outputs": [
    {
     "data": {
      "text/plain": [
       "tensor([[ 0.3912, -0.3131, -0.5704,  0.1386, -0.0805,  0.2840, -0.4612,  0.4176,\n",
       "          0.1815,  0.3982,  0.3504,  0.0681, -0.3936,  0.5383,  0.0282,  0.3985,\n",
       "          0.3291,  0.3125,  0.3637,  0.1893],\n",
       "        [-0.5409,  0.7553,  0.2176, -0.3243, -0.1724, -0.0350,  0.2422, -0.2549,\n",
       "          0.4105, -0.3549,  0.2171,  0.5521,  0.0122,  0.3783, -0.2583, -0.0181,\n",
       "          0.1647,  0.6133, -0.0935, -0.2087],\n",
       "        [-0.1052,  0.7468, -0.3063, -0.3701, -0.5259, -0.3952, -0.4957,  0.0016,\n",
       "          0.7090, -0.1685,  0.2603,  0.1816, -0.3178,  0.3992, -0.6003, -0.5304,\n",
       "         -0.3403,  0.2522, -0.4018,  0.1896]], grad_fn=<SelectBackward>)"
      ]
     },
     "execution_count": 88,
     "metadata": {},
     "output_type": "execute_result"
    }
   ],
   "source": [
    "# 最后时刻的输出\n",
    "out[-1]"
   ]
  },
  {
   "cell_type": "code",
   "execution_count": 89,
   "id": "1f51e8ca-e2c2-465e-9a2f-32b8a628f791",
   "metadata": {},
   "outputs": [
    {
     "data": {
      "text/plain": [
       "tensor([[ 0.3912, -0.3131, -0.5704,  0.1386, -0.0805,  0.2840, -0.4612,  0.4176,\n",
       "          0.1815,  0.3982],\n",
       "        [-0.5409,  0.7553,  0.2176, -0.3243, -0.1724, -0.0350,  0.2422, -0.2549,\n",
       "          0.4105, -0.3549],\n",
       "        [-0.1052,  0.7468, -0.3063, -0.3701, -0.5259, -0.3952, -0.4957,  0.0016,\n",
       "          0.7090, -0.1685]], grad_fn=<SelectBackward>)"
      ]
     },
     "execution_count": 89,
     "metadata": {},
     "output_type": "execute_result"
    }
   ],
   "source": [
    "# 正向的的隐藏层输出\n",
    "ht[0]"
   ]
  },
  {
   "cell_type": "code",
   "execution_count": 90,
   "id": "0a0b51ce-2cb5-4e79-9992-59051f900206",
   "metadata": {},
   "outputs": [
    {
     "data": {
      "text/plain": [
       "tensor([[ 0.4740,  0.4121, -0.5868, -0.2711, -0.2606, -0.4430, -0.5782,  0.8062,\n",
       "          0.7675, -0.7180,  0.5319,  0.4218, -0.5257,  0.5148, -0.7651, -0.1566,\n",
       "         -0.1108,  0.2430, -0.1809, -0.1221],\n",
       "        [ 0.4909,  0.1688, -0.2177, -0.2767,  0.2483, -0.3785, -0.3281,  0.8529,\n",
       "          0.6099, -0.4130,  0.3471,  0.6021, -0.7445,  0.1823, -0.6768,  0.2450,\n",
       "          0.1149,  0.2162, -0.3557, -0.5719],\n",
       "        [-0.2244,  0.7206, -0.0976, -0.5866,  0.3540,  0.1325, -0.5411, -0.7152,\n",
       "          0.3517,  0.3375, -0.8289, -0.7162, -0.1566, -0.3909, -0.4418, -0.2623,\n",
       "          0.1497, -0.6729,  0.2449,  0.4574]], grad_fn=<SelectBackward>)"
      ]
     },
     "execution_count": 90,
     "metadata": {},
     "output_type": "execute_result"
    }
   ],
   "source": [
    "# 第0时刻的输出\n",
    "out[0]"
   ]
  },
  {
   "cell_type": "code",
   "execution_count": 91,
   "id": "12a40adc-16d9-4250-833e-c351695803f3",
   "metadata": {},
   "outputs": [
    {
     "data": {
      "text/plain": [
       "tensor([[ 0.5319,  0.4218, -0.5257,  0.5148, -0.7651, -0.1566, -0.1108,  0.2430,\n",
       "         -0.1809, -0.1221],\n",
       "        [ 0.3471,  0.6021, -0.7445,  0.1823, -0.6768,  0.2450,  0.1149,  0.2162,\n",
       "         -0.3557, -0.5719],\n",
       "        [-0.8289, -0.7162, -0.1566, -0.3909, -0.4418, -0.2623,  0.1497, -0.6729,\n",
       "          0.2449,  0.4574]], grad_fn=<SelectBackward>)"
      ]
     },
     "execution_count": 91,
     "metadata": {},
     "output_type": "execute_result"
    }
   ],
   "source": [
    "# 反向的隐藏层输出\n",
    "ht[-1]"
   ]
  },
  {
   "cell_type": "markdown",
   "id": "dffe414d-844c-4363-98f0-9454c7d67136",
   "metadata": {},
   "source": [
    "## 双向多层\n",
    "![](./imgs/rnn2.png)"
   ]
  },
  {
   "cell_type": "code",
   "execution_count": 92,
   "id": "36b7934a-44d8-4aad-bb16-e94c2d04f65c",
   "metadata": {},
   "outputs": [],
   "source": [
    "# 构造RNN网络，x的维度5，隐层的维度10,网络的层数2\n",
    "rnn_seq = nn.RNN(5, 10, 2, bidirectional=True)\n",
    "# 构造一个输入序列，句长为 6，batch 是 3， 每个单词使用长度是 5的向量表示\n",
    "# 输入维度为:[seq_len,batch_size,output_dim]\n",
    "x = torch.randn(6, 3, 5)\n",
    "#out,ht = rnn_seq(x,h0)\n",
    "out, ht = rnn_seq(x)  # h0可以指定或者不指定"
   ]
  },
  {
   "cell_type": "code",
   "execution_count": 93,
   "id": "0121c8b9-2eef-4449-9151-3fc4d6b81e7a",
   "metadata": {},
   "outputs": [
    {
     "data": {
      "text/plain": [
       "torch.Size([6, 3, 20])"
      ]
     },
     "execution_count": 93,
     "metadata": {},
     "output_type": "execute_result"
    }
   ],
   "source": [
    "# 前向后向拼接\n",
    "out.shape"
   ]
  },
  {
   "cell_type": "code",
   "execution_count": 94,
   "id": "be023078-180b-4788-967f-90f418afe910",
   "metadata": {},
   "outputs": [
    {
     "data": {
      "text/plain": [
       "torch.Size([4, 3, 10])"
      ]
     },
     "execution_count": 94,
     "metadata": {},
     "output_type": "execute_result"
    }
   ],
   "source": [
    "# [num_layers * num_directions, batch, hidden_size]\n",
    "ht.shape"
   ]
  },
  {
   "cell_type": "code",
   "execution_count": 95,
   "id": "ef883884-fe75-45b9-af69-71cae4d1be13",
   "metadata": {},
   "outputs": [
    {
     "data": {
      "text/plain": [
       "tensor([[ 0.1704,  0.4581,  0.1723,  0.2236,  0.0432,  0.6190,  0.1974,  0.2000,\n",
       "         -0.5012, -0.1075, -0.1713, -0.4623, -0.3120,  0.0759,  0.4959, -0.8103,\n",
       "         -0.2548,  0.4587, -0.2821,  0.7620],\n",
       "        [ 0.4484,  0.4716,  0.0320,  0.1836,  0.1117,  0.5677,  0.0560,  0.2435,\n",
       "         -0.3318, -0.0584, -0.4861,  0.0913, -0.2517,  0.1683,  0.5459, -0.3377,\n",
       "         -0.6199, -0.4051, -0.2039,  0.4189],\n",
       "        [ 0.5295,  0.4061, -0.1754,  0.2779, -0.0318,  0.6160,  0.1777,  0.5757,\n",
       "         -0.1380, -0.2663, -0.6953, -0.0388, -0.2153,  0.5317,  0.2948, -0.1002,\n",
       "         -0.6486,  0.1166,  0.0067,  0.1381]], grad_fn=<SelectBackward>)"
      ]
     },
     "execution_count": 95,
     "metadata": {},
     "output_type": "execute_result"
    }
   ],
   "source": [
    "out[0]"
   ]
  },
  {
   "cell_type": "code",
   "execution_count": 96,
   "id": "391b4b9f-2f76-4df3-b681-6b77254d04df",
   "metadata": {},
   "outputs": [
    {
     "data": {
      "text/plain": [
       "tensor([[[-0.0053,  0.7034,  0.1532, -0.0558,  0.5286,  0.8320, -0.2079,\n",
       "          -0.5418, -0.4331,  0.1198],\n",
       "         [ 0.2822,  0.6841, -0.5430,  0.1567,  0.5371,  0.8532,  0.0513,\n",
       "          -0.5214, -0.1258, -0.0206],\n",
       "         [ 0.3767,  0.6684,  0.0900,  0.2732,  0.4522,  0.8421, -0.0925,\n",
       "          -0.1310, -0.2546, -0.0969]],\n",
       "\n",
       "        [[-0.1713, -0.4623, -0.3120,  0.0759,  0.4959, -0.8103, -0.2548,\n",
       "           0.4587, -0.2821,  0.7620],\n",
       "         [-0.4861,  0.0913, -0.2517,  0.1683,  0.5459, -0.3377, -0.6199,\n",
       "          -0.4051, -0.2039,  0.4189],\n",
       "         [-0.6953, -0.0388, -0.2153,  0.5317,  0.2948, -0.1002, -0.6486,\n",
       "           0.1166,  0.0067,  0.1381]]], grad_fn=<SliceBackward>)"
      ]
     },
     "execution_count": 96,
     "metadata": {},
     "output_type": "execute_result"
    }
   ],
   "source": [
    "ht[2:]"
   ]
  },
  {
   "cell_type": "markdown",
   "id": "d0a95d60-97ec-465c-9706-f378f918d386",
   "metadata": {},
   "source": [
    "## 参考\n",
    "[[PyTorch] rnn,lstm,gru中输入输出维度](https://www.jianshu.com/p/b942e65cb0a3)"
   ]
  }
 ],
 "metadata": {
  "kernelspec": {
   "display_name": "Python 3",
   "language": "python",
   "name": "python3"
  },
  "language_info": {
   "codemirror_mode": {
    "name": "ipython",
    "version": 3
   },
   "file_extension": ".py",
   "mimetype": "text/x-python",
   "name": "python",
   "nbconvert_exporter": "python",
   "pygments_lexer": "ipython3",
   "version": "3.8.5"
  }
 },
 "nbformat": 4,
 "nbformat_minor": 5
}
